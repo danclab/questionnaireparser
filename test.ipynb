{
 "cells": [
  {
   "cell_type": "code",
   "execution_count": 1,
   "id": "b7553ae8",
   "metadata": {},
   "outputs": [],
   "source": [
    "import os\n",
    "import PyPDF2 as pypdf\n",
    "import pandas\n",
    "import pandas as pd\n",
    "import glob "
   ]
  },
  {
   "cell_type": "code",
   "execution_count": 29,
   "id": "acd07400",
   "metadata": {},
   "outputs": [
    {
     "name": "stdout",
     "output_type": "stream",
     "text": [
      "C:\\Users\\mgautier\\Desktop\\questionnaires\\subj001_visit1_ASQ.pdf\n",
      "subjid_visit_ASQ\n",
      "C:\\Users\\mgautier\\Desktop\\questionnaires\\subj002_visit1_ASQ.pdf\n",
      "subjid_visit_ASQ\n"
     ]
    }
   ],
   "source": [
    "input_dir=r'C:\\Users\\mgautier\\Desktop\\questionnaires'\n",
    "data_list=[]\n",
    "for file in glob.glob(os.path.join(input_dir,\"*.pdf\")):\n",
    "    print(file)\n",
    "    pdfobject=open(file, 'rb')\n",
    "    pdf=pypdf.PdfFileReader(pdfobject)\n",
    "    data=pdf.getFormTextFields()\n",
    "    path=r'C:\\Users\\mgautier\\Desktop\\questionnaires\\subjid_visit_ASQ.pdf'\n",
    "    def get_filename_without_extension(path):\n",
    "        filename_basename = os.path.basename(r'C:\\Users\\mgautier\\Desktop\\questionnaires\\subjid_visit_ASQ.pdf')\n",
    "        filename_without_extension=filename_basename.split('.')[0]\n",
    "        return filename_without_extension\n",
    "    print(get_filename_without_extension(path))\n",
    "    txt=get_filename_without_extension(path)\n",
    "    subj_id=txt.split(\"_\")\n",
    "    data['subj_id']=subj_id\n",
    "    data_list.append(data)\n",
    "df=pd.DataFrame(data_list)\n",
    "df.to_csv('test.csv',index=False)\n"
   ]
  },
  {
   "cell_type": "code",
   "execution_count": null,
   "id": "9bbcd4d6",
   "metadata": {},
   "outputs": [],
   "source": []
  },
  {
   "cell_type": "code",
   "execution_count": null,
   "id": "9ca6e631",
   "metadata": {},
   "outputs": [],
   "source": []
  }
 ],
 "metadata": {
  "kernelspec": {
   "display_name": "Python 3 (ipykernel)",
   "language": "python",
   "name": "python3"
  },
  "language_info": {
   "codemirror_mode": {
    "name": "ipython",
    "version": 3
   },
   "file_extension": ".py",
   "mimetype": "text/x-python",
   "name": "python",
   "nbconvert_exporter": "python",
   "pygments_lexer": "ipython3",
   "version": "3.9.5"
  }
 },
 "nbformat": 4,
 "nbformat_minor": 5
}
